{
 "cells": [
  {
   "cell_type": "markdown",
   "id": "4f30afdc-bafe-4416-8866-b72212b79326",
   "metadata": {},
   "source": [
    "# Task 2\n",
    "### write python code that perform a complete Pipe Line Preprocessing task on your own Raw dataeach"
   ]
  },
  {
   "cell_type": "code",
   "execution_count": 1,
   "id": "5c54a368-7e33-4227-8b1c-41c3564d3ef9",
   "metadata": {},
   "outputs": [],
   "source": [
    "from sklearn.pipeline import Pipeline\n",
    "from sklearn.compose import ColumnTransformer\n",
    "from sklearn.impute import SimpleImputer\n",
    "from sklearn.preprocessing import StandardScaler, OneHotEncoder, MinMaxScaler\n",
    "from sklearn.decomposition import PCA\n",
    "import pandas as pd"
   ]
  },
  {
   "cell_type": "markdown",
   "id": "f417142b-741c-4dd7-8fc0-d1734c61754c",
   "metadata": {},
   "source": [
    "### Load the data"
   ]
  },
  {
   "cell_type": "code",
   "execution_count": 2,
   "id": "68948a8e-85d7-4b65-9a1d-5cb86365eae4",
   "metadata": {},
   "outputs": [],
   "source": [
    "data = pd.read_csv('Shopping Mall Customer Segmentation Data .csv')"
   ]
  },
  {
   "cell_type": "code",
   "execution_count": 3,
   "id": "a82233e8-8086-4024-a750-b866099b36f1",
   "metadata": {},
   "outputs": [
    {
     "name": "stdout",
     "output_type": "stream",
     "text": [
      "                            Customer ID  Age  Gender  Annual Income  \\\n",
      "0  d410ea53-6661-42a9-ad3a-f554b05fd2a7   30    Male         151479   \n",
      "1  1770b26f-493f-46b6-837f-4237fb5a314e   58  Female         185088   \n",
      "2  e81aa8eb-1767-4b77-87ce-1620dc732c5e   62  Female          70912   \n",
      "3  9795712a-ad19-47bf-8886-4f997d6046e3   23    Male          55460   \n",
      "4  64139426-2226-4cd6-bf09-91bce4b4db5e   24    Male         153752   \n",
      "\n",
      "   Spending Score  \n",
      "0              89  \n",
      "1              95  \n",
      "2              76  \n",
      "3              57  \n",
      "4              76  \n",
      "<class 'pandas.core.frame.DataFrame'>\n",
      "RangeIndex: 15079 entries, 0 to 15078\n",
      "Data columns (total 5 columns):\n",
      " #   Column          Non-Null Count  Dtype \n",
      "---  ------          --------------  ----- \n",
      " 0   Customer ID     15079 non-null  object\n",
      " 1   Age             15079 non-null  int64 \n",
      " 2   Gender          15079 non-null  object\n",
      " 3   Annual Income   15079 non-null  int64 \n",
      " 4   Spending Score  15079 non-null  int64 \n",
      "dtypes: int64(3), object(2)\n",
      "memory usage: 589.2+ KB\n",
      "None\n",
      "                Age  Annual Income  Spending Score\n",
      "count  15079.000000   15079.000000    15079.000000\n",
      "mean      54.191591  109742.880562       50.591617\n",
      "std       21.119207   52249.425866       28.726977\n",
      "min       18.000000   20022.000000        1.000000\n",
      "25%       36.000000   64141.000000       26.000000\n",
      "50%       54.000000  109190.000000       51.000000\n",
      "75%       72.000000  155008.000000       75.000000\n",
      "max       90.000000  199974.000000      100.000000\n"
     ]
    }
   ],
   "source": [
    "print(data.head())\n",
    "print(data.info())\n",
    "print(data.describe())"
   ]
  },
  {
   "cell_type": "markdown",
   "id": "1d2843dc-9e1f-4c72-a259-c45f161c1133",
   "metadata": {},
   "source": [
    "### Step 2: Identify features"
   ]
  },
  {
   "cell_type": "code",
   "execution_count": 4,
   "id": "4908e453-d4db-413d-8f0b-fd09c8081622",
   "metadata": {},
   "outputs": [],
   "source": [
    "numeric_features = ['Age', 'Annual Income', 'Spending Score']\n",
    "categorical_features = ['Gender']"
   ]
  },
  {
   "cell_type": "markdown",
   "id": "154bbb97-f3c8-4ee2-a9f9-452e313ae82a",
   "metadata": {},
   "source": [
    "### Step 3: Preprocessing for numeric data"
   ]
  },
  {
   "cell_type": "code",
   "execution_count": 5,
   "id": "eab38dfb-88ce-48c1-b1ee-c03393ba6a94",
   "metadata": {},
   "outputs": [],
   "source": [
    "numeric_transformer = Pipeline(steps=[\n",
    "    ('imputer', SimpleImputer(strategy='mean')),  # Handle missing values by replacing them with the mean\n",
    "    ('scaler', StandardScaler()),  # Standardize features by removing the mean and scaling to unit variance\n",
    "])"
   ]
  },
  {
   "cell_type": "markdown",
   "id": "58c77033-bde9-4519-98fb-55a5b8da5fc8",
   "metadata": {},
   "source": [
    "### Step 4: Preprocessing for categorical data"
   ]
  },
  {
   "cell_type": "code",
   "execution_count": 6,
   "id": "fc7f41fb-3763-4107-b0bd-651a4e1aa0f6",
   "metadata": {},
   "outputs": [],
   "source": [
    "categorical_transformer = Pipeline(steps=[\n",
    "    ('imputer', SimpleImputer(strategy='most_frequent')),  # Handle missing values by replacing them with the most frequent value\n",
    "    ('onehot', OneHotEncoder(handle_unknown='ignore'))  # Convert categorical data to a one-hot encoded matrix\n",
    "])"
   ]
  },
  {
   "cell_type": "markdown",
   "id": "00a6ea97-797f-4a52-a97c-96e7079f7c06",
   "metadata": {},
   "source": [
    "### Step 5: Combine numeric and categorical transformers"
   ]
  },
  {
   "cell_type": "code",
   "execution_count": 7,
   "id": "10afce78-7098-4615-93ff-5154b2620bb3",
   "metadata": {},
   "outputs": [],
   "source": [
    "preprocessor = ColumnTransformer(\n",
    "    transformers=[\n",
    "        ('num', numeric_transformer, numeric_features),\n",
    "        ('cat', categorical_transformer, categorical_features)\n",
    "    ])"
   ]
  },
  {
   "cell_type": "markdown",
   "id": "e60b2315-0c6e-4587-8e8b-c034510714bc",
   "metadata": {},
   "source": [
    "### Step 6: Add dimensionality reduction"
   ]
  },
  {
   "cell_type": "code",
   "execution_count": 8,
   "id": "0de01586-4fb2-4cab-96a2-4a111219c89b",
   "metadata": {},
   "outputs": [],
   "source": [
    "pca = PCA(n_components=2)  # Reducing the feature space to 2 dimensions for visualization or efficiency"
   ]
  },
  {
   "cell_type": "markdown",
   "id": "2da0bc43-5400-4b4a-8f76-a90bb36634cd",
   "metadata": {},
   "source": [
    "### Step 7: Create the complete pipeline"
   ]
  },
  {
   "cell_type": "code",
   "execution_count": 9,
   "id": "557435c4-b6b1-42b9-81ab-e4c80d3caa21",
   "metadata": {},
   "outputs": [],
   "source": [
    "pipeline = Pipeline(steps=[('preprocessor', preprocessor),\n",
    "                           ('pca', pca)])  # Including PCA as part of the pipeline\n"
   ]
  },
  {
   "cell_type": "markdown",
   "id": "0f857210-4751-4ef9-b141-80d8017ba44a",
   "metadata": {},
   "source": [
    "### Step 8: Fit and transform the data"
   ]
  },
  {
   "cell_type": "code",
   "execution_count": 10,
   "id": "45b5d557-e740-43b4-9079-e76ae531fbb3",
   "metadata": {},
   "outputs": [],
   "source": [
    "preprocessed_data = pipeline.fit_transform(data)"
   ]
  },
  {
   "cell_type": "code",
   "execution_count": 11,
   "id": "b557e221-2834-41fc-8365-9d330f187861",
   "metadata": {},
   "outputs": [
    {
     "data": {
      "text/html": [
       "<div>\n",
       "<style scoped>\n",
       "    .dataframe tbody tr th:only-of-type {\n",
       "        vertical-align: middle;\n",
       "    }\n",
       "\n",
       "    .dataframe tbody tr th {\n",
       "        vertical-align: top;\n",
       "    }\n",
       "\n",
       "    .dataframe thead th {\n",
       "        text-align: right;\n",
       "    }\n",
       "</style>\n",
       "<table border=\"1\" class=\"dataframe\">\n",
       "  <thead>\n",
       "    <tr style=\"text-align: right;\">\n",
       "      <th></th>\n",
       "      <th>PCA1</th>\n",
       "      <th>PCA2</th>\n",
       "    </tr>\n",
       "  </thead>\n",
       "  <tbody>\n",
       "    <tr>\n",
       "      <th>0</th>\n",
       "      <td>-1.592701</td>\n",
       "      <td>1.062683</td>\n",
       "    </tr>\n",
       "    <tr>\n",
       "      <th>1</th>\n",
       "      <td>-0.642579</td>\n",
       "      <td>1.979470</td>\n",
       "    </tr>\n",
       "    <tr>\n",
       "      <th>2</th>\n",
       "      <td>-0.429188</td>\n",
       "      <td>-0.187192</td>\n",
       "    </tr>\n",
       "    <tr>\n",
       "      <th>3</th>\n",
       "      <td>-1.407204</td>\n",
       "      <td>-1.103030</td>\n",
       "    </tr>\n",
       "    <tr>\n",
       "      <th>4</th>\n",
       "      <td>-1.496757</td>\n",
       "      <td>0.844584</td>\n",
       "    </tr>\n",
       "  </tbody>\n",
       "</table>\n",
       "</div>"
      ],
      "text/plain": [
       "       PCA1      PCA2\n",
       "0 -1.592701  1.062683\n",
       "1 -0.642579  1.979470\n",
       "2 -0.429188 -0.187192\n",
       "3 -1.407204 -1.103030\n",
       "4 -1.496757  0.844584"
      ]
     },
     "execution_count": 11,
     "metadata": {},
     "output_type": "execute_result"
    }
   ],
   "source": [
    "# Convert the preprocessed data to a DataFrame for easy inspection\n",
    "preprocessed_df = pd.DataFrame(preprocessed_data, columns=['PCA1', 'PCA2'])\n",
    "preprocessed_df.head()"
   ]
  }
 ],
 "metadata": {
  "kernelspec": {
   "display_name": "Python 3 (ipykernel)",
   "language": "python",
   "name": "python3"
  },
  "language_info": {
   "codemirror_mode": {
    "name": "ipython",
    "version": 3
   },
   "file_extension": ".py",
   "mimetype": "text/x-python",
   "name": "python",
   "nbconvert_exporter": "python",
   "pygments_lexer": "ipython3",
   "version": "3.11.7"
  }
 },
 "nbformat": 4,
 "nbformat_minor": 5
}
